{
 "cells": [
  {
   "cell_type": "code",
   "execution_count": 15,
   "metadata": {},
   "outputs": [],
   "source": [
    "from string import digits\n",
    "import re\n",
    "import pandas as pd\n",
    "import requests\n",
    "from bs4 import BeautifulSoup"
   ]
  },
  {
   "cell_type": "code",
   "execution_count": 4,
   "metadata": {},
   "outputs": [],
   "source": [
    "def clean_text(text):    \n",
    "    #remove digits with decimal points\n",
    "    text=re.sub(r\"[0-9]+\\.+[0-9]+\",\"\",text)\n",
    "    #remove digits\n",
    "    remove_digits=str.maketrans(\"\", \"\",digits)\n",
    "    text=text.translate(remove_digits)\n",
    "    #remove punctuations except periods and apostrophe\n",
    "    text=re.sub(r'[^\\w\\.\\'\\s]',\"\",text)\n",
    "    #remove array of periods\n",
    "    text=re.sub(r\"\\.\\.+\",\"\",text)\n",
    "    #remove extra spaces\n",
    "    text=\" \".join(text.split())\n",
    "    return text"
   ]
  },
  {
   "cell_type": "code",
   "execution_count": 5,
   "metadata": {},
   "outputs": [],
   "source": [
    "def report_constraints(text,constraints):\n",
    "    '''\n",
    "    count number of constraints in the report\n",
    "    '''\n",
    "    #count words in the text\n",
    "    split_words=text.split()\n",
    "    #remove periods from the list\n",
    "    clean_list=list(map(lambda x:re.sub(r\"[^a-zA-Z\\']\",\"\",x),split_words))\n",
    "    clean_list=list(filter(None,clean_list))\n",
    "    \n",
    "    constraint_count=sum(word in constraints for word in clean_list)\n",
    "    return constraint_count"
   ]
  },
  {
   "cell_type": "code",
   "execution_count": 6,
   "metadata": {},
   "outputs": [],
   "source": [
    "def score(clean_list,df,stopword_gen):\n",
    "    #remove generic stopwords\n",
    "    clean_list=[word.upper() for word in clean_list if word not in stopword_gen]\n",
    "    #count positive and negative words in the list\n",
    "    positive=0\n",
    "    negative=0\n",
    "    for word in clean_list:\n",
    "        if word in list(df.Word):\n",
    "            if df.loc[df[\"Word\"]==word, \"Positive\"].iloc[0] != 0:\n",
    "                positive+=1\n",
    "            else:\n",
    "                negative+=1  \n",
    "    #polarity score\n",
    "    polarity_score=(positive - negative)/((positive + negative) + 0.000001)   \n",
    "    #subjectivity score\n",
    "    subjectivity_score=(positive+negative)/((len(clean_list))+0.000001)\n",
    "    \n",
    "    return positive,negative,polarity_score,subjectivity_score        "
   ]
  },
  {
   "cell_type": "code",
   "execution_count": 7,
   "metadata": {},
   "outputs": [],
   "source": [
    "#sentiment category\n",
    "def category(polarity):\n",
    "    if polarity <= -0.5:\n",
    "        cat=\"Most Negative\"\n",
    "    elif -0.5 < polarity < 0:\n",
    "        cat=\"Negative\"\n",
    "    elif polarity == 0:\n",
    "        cat=\"Neutral\"\n",
    "    elif 0 < polarity < 0.5:\n",
    "        cat=\"Positive\"\n",
    "    else:\n",
    "        cat=\"Very Positive\"\n",
    "    return cat    "
   ]
  },
  {
   "cell_type": "code",
   "execution_count": 8,
   "metadata": {},
   "outputs": [],
   "source": [
    "#count syllables\n",
    "def syllable_count(word):\n",
    "    try:\n",
    "        count=max([len(list(y for y in x if y[-1].isdigit())) for x in d[word.lower()]])\n",
    "        return count\n",
    "    except KeyError:\n",
    "        word=word.lower()\n",
    "        count=0\n",
    "        vowels=\"aeiouy\"\n",
    "        #count if first letter is vowel\n",
    "        if word[0] in vowels:\n",
    "            count+=1   \n",
    "        for index in range(1, len(word)):\n",
    "            #count the vowel in only if previous letter is not vowel\n",
    "            if index==(len(word) - 2) and (word[index]+word[index+1]==\"ed\" or word[index]+word[index+1]==\"es\"): \n",
    "                break    \n",
    "            if word[index] in vowels and word[index - 1] not in vowels:\n",
    "                count+=1    \n",
    "        if word.endswith(\"e\"):\n",
    "            count-=1\n",
    "        if count==0:\n",
    "            count+=1\n",
    "        return count"
   ]
  },
  {
   "cell_type": "code",
   "execution_count": 9,
   "metadata": {},
   "outputs": [],
   "source": [
    "def readability(string,clean_list,complex_words):   \n",
    "    '''analysis of readability'''\n",
    "    #average sentence length\n",
    "    string=string.replace(\"U.S.\",\"\")\n",
    "    num_sent=string.split(\".\")\n",
    "    avg_sent_length=len(clean_list)/len(num_sent)\n",
    "    avg_sent_length=round(avg_sent_length,2)\n",
    "\n",
    "    #fraction of complex words\n",
    "    frac=complex_words/len(clean_list)\n",
    "\n",
    "    #fog index\n",
    "    fog=0.4*(avg_sent_length+frac)\n",
    "    fog=round(fog,2)\n",
    "    \n",
    "    return fog,avg_sent_length,frac"
   ]
  },
  {
   "cell_type": "code",
   "execution_count": 13,
   "metadata": {},
   "outputs": [],
   "source": [
    "def personal_pronoun(string):    \n",
    "    #count personal pronouns\n",
    "    pers_pronoun=[\"i\",\"we\",\"ours\",\"us\"]\n",
    "    t=\"i am we\"\n",
    "    pattern=\"|\".join(r\"\\b%s\\b\" % w for w in pers_pronoun)\n",
    "    match=re.compile(pattern)\n",
    "    pro_count=len(match.findall(string,flags=re.IGNORECASE))\n",
    "    return pro_count"
   ]
  },
  {
   "cell_type": "code",
   "execution_count": 16,
   "metadata": {},
   "outputs": [],
   "source": [
    "#passive auxillary verbs\n",
    "aux_verb=[\"to be\", \"to have\", \"will be\", \"has been\", \"have been\", \"had been\", \"will have been\",\n",
    "               \"being\", \"am\", \"are\", \"is\", \"was\", \"were\"]\n",
    "#create list of irregular verbs(past participle)\n",
    "verb_url=\"https://www.worldclasslearning.com/english/irregular-verb-forms.html\"\n",
    "html=requests.get(verb_url)\n",
    "soup=BeautifulSoup(html.content,\"lxml\")\n",
    "verb_text=soup.prettify()\n",
    "\n",
    "tr=soup(\"tr\")[1:]\n",
    "irr_verb=[tag.find_all(\"td\")[3].get_text() for tag in tr]#remove double words pending"
   ]
  },
  {
   "cell_type": "code",
   "execution_count": 17,
   "metadata": {},
   "outputs": [],
   "source": [
    "def PassiveWords(string):    \n",
    "    #passive words\n",
    "    #find passive auxillary verbs\n",
    "    verb_pattern=\"|\".join(r\"\\b%s\\b\" % w for w in aux_verb)\n",
    "    verb_match=re.compile(verb_pattern,flags=(re.IGNORECASE))\n",
    "    find_verb=verb_match.findall(string)\n",
    "\n",
    "    #find passive words\n",
    "    passive_words=0\n",
    "    for verb in find_verb:\n",
    "        irreg_verb=re.compile(r\"\\b\"+verb+\" (\\w+)\")\n",
    "        next_word=irreg_verb.findall(string)\n",
    "        for word in next_word:\n",
    "            if word in irr_verb or word.endswith(\"ed\"):\n",
    "                passive_words+=1\n",
    "    return passive_words "
   ]
  }
 ],
 "metadata": {
  "kernelspec": {
   "display_name": "Python 3",
   "language": "python",
   "name": "python3"
  },
  "language_info": {
   "codemirror_mode": {
    "name": "ipython",
    "version": 3
   },
   "file_extension": ".py",
   "mimetype": "text/x-python",
   "name": "python",
   "nbconvert_exporter": "python",
   "pygments_lexer": "ipython3",
   "version": "3.6.7"
  },
  "toc": {
   "base_numbering": 1,
   "nav_menu": {},
   "number_sections": true,
   "sideBar": true,
   "skip_h1_title": false,
   "title_cell": "Table of Contents",
   "title_sidebar": "Contents",
   "toc_cell": false,
   "toc_position": {},
   "toc_section_display": true,
   "toc_window_display": false
  }
 },
 "nbformat": 4,
 "nbformat_minor": 2
}
