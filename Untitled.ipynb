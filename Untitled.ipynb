{
 "cells": [
  {
   "cell_type": "code",
   "execution_count": 1,
   "metadata": {},
   "outputs": [],
   "source": [
    "import pandas as pd\n",
    "import re\n",
    "import requests\n",
    "from bs4 import BeautifulSoup\n",
    "from urllib import parse\n",
    "from nltk.corpus import cmudict,stopwords\n",
    "from utilities import clean_text,report_constraints,score,category,syllable_count,readability,personal_pronoun,PassiveWords"
   ]
  },
  {
   "cell_type": "code",
   "execution_count": 2,
   "metadata": {},
   "outputs": [],
   "source": [
    "#list of stopwords(Generic)\n",
    "stopword_gen=pd.read_csv(\"StopWords_Generic.txt\")\n",
    "stopword_gen=list(stopword_gen.ABOUT)\n",
    "#create positive negative dictionary from master dictionary\n",
    "df=pd.read_csv(\"LoughranMcDonald_MasterDictionary_2018.csv\")\n",
    "df=df.loc[:,[\"Word\",\"Negative\",\"Positive\"]]\n",
    "df=df[(df.Negative!=0) | (df.Positive!=0)]\n",
    "df=df[~df.Word.isin(stopword_gen)].reset_index(drop=True)"
   ]
  },
  {
   "cell_type": "code",
   "execution_count": 3,
   "metadata": {},
   "outputs": [],
   "source": [
    "#read contraint and uncertainty files\n",
    "const_file=pd.read_excel(\"constraining_dictionary.xlsx\",sheet_name=0)\n",
    "uncert_file=pd.read_excel(\"uncertainty_dictionary.xlsx\",sheet_name=0)\n",
    "constraints=[word.lower() for word in list(const_file.Word)]\n",
    "uncertainty=[word.lower() for word in list(uncert_file.Word)]"
   ]
  },
  {
   "cell_type": "code",
   "execution_count": 28,
   "metadata": {},
   "outputs": [],
   "source": [
    "abs_url=\"https://www.sec.gov/Archives/\"\n",
    "sections=[\" MANAGEMENTS DISCUSSION AND ANALYSIS\", \" QUANTITATIVE AND QUALITATIVE DISCLOSUR(?:ES|E) ABOUT MARKET RISK\", \" RISK FACTORS\"]"
   ]
  },
  {
   "cell_type": "code",
   "execution_count": 31,
   "metadata": {},
   "outputs": [
    {
     "name": "stdout",
     "output_type": "stream",
     "text": [
      "the  OF FINANCIAL CONDITION AND RESULTS OF OPERATIONS ForwardLooking Statements This report contains forwardlooking statements. Additional written or oral forwardlooking statements may be made by AMERCO from time to time in filings with the Securities and Exchange Commission or otherwise. Management believes such forwardlooking statements are within the meaning of the safeharbor provisions. Such statements may include but not be limited to projections of revenues income or loss estimates of capital expenditures plans for future operations products or services and financing needs or plans as well as assumptions relating to the foregoing. The words believe expect anticipate estimate project and similar expressions identify forwardlooking statements which speak only as of the date the statement was made. Forwardlooking statements are inherently subject to risks and uncertainties some of which cannot be predicted or quantified. Future events and actual results could differ materially from those set forth in contemplated by or underlying the forwardlooking statements. The following disclosures as well as other statements in this report and in the Notes to AMERCOs Consolidated Financial Statements describe factors among others that could contribute to or cause such differences or that could affect AMERCOs stock price. General Information on fiscal year and industry segments is incorporated by reference to \n",
      "the  Interest Rate Risk In the normal course of business AMERCO is exposed to fluctuations in interest rates. AMERCO manages such exposure by the use of a variety of derivative financial instruments when deemed prudent. AMERCO does not enter into leveraged financial transactions or use derivative financial instruments for trading purposes. The exposure to market risk for changes in interest rates relates primarily to debt obligations. AMERCOs objective is to mitigate the impact of changes in interest rates on its variable rate debt. AMERCO uses interest rate swap agreements to provide for matching the gain or loss recognition on the hedging instrument with the recognition of the changes in the fair value of hedged asset or liability attributable to the hedged risk or the earnings effect of the hedged forecasted transaction. See Note of Notes to Consolidated Financial Statements. A fluctuation of the interest rate by basis points would change AMERCOs interest expense by million. Foreign Currency Exchange Rate Risk AMERCOs earnings are affected by fluctuations in the value of foreign currency exchange rates. Approximately of AMERCOs revenue is generated in Canada. The result of a uniform change in the value of the U.S. dollar relative to the Canadian dollar would not be material. AMERCO does not typically hedge any foreign currency risk since the exposure is not considered material. \n"
     ]
    }
   ],
   "source": [
    "df1=pd.read_excel(\"cik_list.xlsx\",sheet_name=0)\n",
    "exl=list(df1[\"SECFNAME\"])\n",
    "row=[]\n",
    "count=0\n",
    "for link in exl:\n",
    "    count+=1\n",
    "    temp=[]\n",
    "    rel_url=\"edgar/data/4457/0000004457-00-000067.txt\"\n",
    "    url=parse.urljoin(abs_url,rel_url)\n",
    "    text=requests.get(url)\n",
    "    \n",
    "    #parse html using beautiful soup\n",
    "    soup=BeautifulSoup(text.content,\"lxml\")\n",
    "    for tag in soup([\"table\",\"sec-header\"]):\n",
    "        tag.decompose()\n",
    "    text=soup.get_text()    \n",
    "    cleaned_text=clean_text(text)\n",
    "    \n",
    "    #number of constraints in the report\n",
    "    cleaned_text_=cleaned_text.lower()\n",
    "    total_const=report_constraints(cleaned_text_,constraints)\n",
    "    \n",
    "    for section in sections:\n",
    "        #print(section)\n",
    "        pattern=r\"\\. (?:ITEM|Item) [A-Za-z]?\\.\"+section+r\"(.+?)(?:ITEM|Item) [A-Za-z]?\\.\"\n",
    "        match=re.compile(pattern,flags=re.DOTALL)\n",
    "        substring=match.search(cleaned_text)\n",
    "        try:\n",
    "            substring=substring.group(1)\n",
    "            print(\"the\",substring)\n",
    "            split_words=substring.split()\n",
    "            #remove periods from the list\n",
    "            clean_list=list(map(lambda x:re.sub(r\"[^a-zA-Z\\']\",\"\",x),split_words))\n",
    "            clean_list=list(filter(None,clean_list))\n",
    "            #polarity \n",
    "            pos,neg,pol_score,sub_score=score(clean_list,df,stopword_gen)\n",
    "            #category\n",
    "            categ=category(pol_score)\n",
    "            #syllable count\n",
    "            d=cmudict.dict()\n",
    "            syllables=list(map(lambda x:syllable_count(x,d),clean_list))\n",
    "            #average syllable count\n",
    "            avg_syllable=sum(syllables)/len(clean_list)\n",
    "            #complex word count\n",
    "            complex_words=sum(i>2 for i in syllables)\n",
    "            #fog index and average sentence length\n",
    "            fog_id,sent_len,frac=readability(substring,clean_list,complex_words)\n",
    "            #word count\n",
    "            #nltk stopwords\n",
    "            stopword=set(stopwords.words(\"english\"))\n",
    "            word_count=sum(word not in stopword for word in clean_list)\n",
    "            #personal pronouns\n",
    "            p_pronoun=personal_pronoun(substring)\n",
    "            #passive words\n",
    "            pass_word=PassiveWords(substring)\n",
    "            #average word length\n",
    "            avg_word_length=sum(list(map(lambda x:len(x),clean_list)))/len(clean_list)\n",
    "            #constraint and uncertainty scores\n",
    "            const_score=sum(word in constraints for word in clean_list)\n",
    "            uncert_score=sum(word in uncertainty for word in clean_list)\n",
    "            #proportions\n",
    "            pos_prop=pos/word_count\n",
    "            neg_prop=neg/word_count\n",
    "            const_prop=const_score/word_count\n",
    "            uncert_prop=uncert_score/word_count\n",
    "            temp.extend([pos,neg,pol_score,sent_len,frac,fog_id,complex_words,word_count,uncert_score,const_score,pos_prop,neg_prop,uncert_prop,const_prop])\n",
    "            temp=[round(num,2) for num in temp]\n",
    "        except AttributeError:\n",
    "            temp.extend(float(\"NaN\") for _ in range(14))\n",
    "    temp.append(total_const)  \n",
    "    row.append(temp)\n",
    "    break"
   ]
  },
  {
   "cell_type": "code",
   "execution_count": null,
   "metadata": {},
   "outputs": [],
   "source": [
    "column_df=pd.read_excel(\"Output Data Structure.xlsx\",header=None)\n",
    "column=list(column_df.iloc[0,6:])\n",
    "\n",
    "df2=pd.DataFrame(row,columns=column)\n",
    "result=pd.concat([df1, df2], axis=1)"
   ]
  },
  {
   "cell_type": "code",
   "execution_count": 45,
   "metadata": {
    "scrolled": true
   },
   "outputs": [
    {
     "name": "stderr",
     "output_type": "stream",
     "text": [
      "IOPub data rate exceeded.\n",
      "The notebook server will temporarily stop sending output\n",
      "to the client in order to avoid crashing it.\n",
      "To change this limit, set the config variable\n",
      "`--NotebookApp.iopub_data_rate_limit`.\n",
      "\n",
      "Current values:\n",
      "NotebookApp.iopub_data_rate_limit=1000000.0 (bytes/sec)\n",
      "NotebookApp.rate_limit_window=3.0 (secs)\n",
      "\n"
     ]
    },
    {
     "ename": "AttributeError",
     "evalue": "'NoneType' object has no attribute 'group'",
     "output_type": "error",
     "traceback": [
      "\u001b[0;31m---------------------------------------------------------------------------\u001b[0m",
      "\u001b[0;31mAttributeError\u001b[0m                            Traceback (most recent call last)",
      "\u001b[0;32m<ipython-input-45-1f0e25c013ff>\u001b[0m in \u001b[0;36m<module>\u001b[0;34m\u001b[0m\n\u001b[1;32m     15\u001b[0m \u001b[0mmatch\u001b[0m\u001b[0;34m=\u001b[0m\u001b[0mre\u001b[0m\u001b[0;34m.\u001b[0m\u001b[0mcompile\u001b[0m\u001b[0;34m(\u001b[0m\u001b[0mpattern\u001b[0m\u001b[0;34m,\u001b[0m\u001b[0mflags\u001b[0m\u001b[0;34m=\u001b[0m\u001b[0mre\u001b[0m\u001b[0;34m.\u001b[0m\u001b[0mDOTALL\u001b[0m\u001b[0;34m)\u001b[0m\u001b[0;34m\u001b[0m\u001b[0;34m\u001b[0m\u001b[0m\n\u001b[1;32m     16\u001b[0m \u001b[0msubstring\u001b[0m\u001b[0;34m=\u001b[0m\u001b[0mmatch\u001b[0m\u001b[0;34m.\u001b[0m\u001b[0msearch\u001b[0m\u001b[0;34m(\u001b[0m\u001b[0mcleaned_text\u001b[0m\u001b[0;34m)\u001b[0m\u001b[0;34m\u001b[0m\u001b[0;34m\u001b[0m\u001b[0m\n\u001b[0;32m---> 17\u001b[0;31m \u001b[0msubstring\u001b[0m\u001b[0;34m=\u001b[0m\u001b[0msubstring\u001b[0m\u001b[0;34m.\u001b[0m\u001b[0mgroup\u001b[0m\u001b[0;34m(\u001b[0m\u001b[0;36m1\u001b[0m\u001b[0;34m)\u001b[0m\u001b[0;34m\u001b[0m\u001b[0;34m\u001b[0m\u001b[0m\n\u001b[0m\u001b[1;32m     18\u001b[0m \u001b[0;31m#print(substring)\u001b[0m\u001b[0;34m\u001b[0m\u001b[0;34m\u001b[0m\u001b[0;34m\u001b[0m\u001b[0m\n",
      "\u001b[0;31mAttributeError\u001b[0m: 'NoneType' object has no attribute 'group'"
     ]
    }
   ],
   "source": [
    "rel_url=\"edgar/data/4962/0001193125-14-167067.txt\"\n",
    "url=parse.urljoin(abs_url,rel_url)\n",
    "text=requests.get(url)\n",
    "    \n",
    "#parse html using beautiful soup\n",
    "soup=BeautifulSoup(text.content,\"lxml\")\n",
    "for tag in soup([\"sec-header\"]):\n",
    "    tag.decompose()\n",
    "text=soup.get_text()\n",
    "cleaned_text=clean_text(text)\n",
    "print(text)\n",
    "#print(cleaned_text)\n",
    "sections=[\" MANAGEMENTS DISCUSSION AND ANALYSIS\", \" QUANTITATIVE AND QUALITATIVE DISCLOSUR(?:ES|E) ABOUT MARKET RISK\", \" RISK FACTORS\"]\n",
    "pattern=r\"\\. (?:ITEM|Item) [A-Za-z]?\\.\"+sections[0]+r\"(.+?)(?:ITEM|Item) [A-Za-z]?\\.\"\n",
    "match=re.compile(pattern,flags=re.DOTALL)\n",
    "substring=match.search(cleaned_text)\n",
    "substring=substring.group(1)\n",
    "#print(substring)\n"
   ]
  },
  {
   "cell_type": "code",
   "execution_count": null,
   "metadata": {},
   "outputs": [],
   "source": [
    "r\"(?:ITEM|Item) [A-Za-z]?\\.\"+sections[2]+r\"(.+?)(?:ITEM|Item) [A-Za-z]?\\.\""
   ]
  },
  {
   "cell_type": "code",
   "execution_count": 25,
   "metadata": {},
   "outputs": [
    {
     "data": {
      "text/plain": [
       "'edgar/data/4457/0000004457-00-000067.txt'"
      ]
     },
     "execution_count": 25,
     "metadata": {},
     "output_type": "execute_result"
    }
   ],
   "source": [
    "exl[45]"
   ]
  }
 ],
 "metadata": {
  "kernelspec": {
   "display_name": "Python 3",
   "language": "python",
   "name": "python3"
  },
  "language_info": {
   "codemirror_mode": {
    "name": "ipython",
    "version": 3
   },
   "file_extension": ".py",
   "mimetype": "text/x-python",
   "name": "python",
   "nbconvert_exporter": "python",
   "pygments_lexer": "ipython3",
   "version": "3.6.7"
  },
  "toc": {
   "base_numbering": 1,
   "nav_menu": {},
   "number_sections": true,
   "sideBar": true,
   "skip_h1_title": false,
   "title_cell": "Table of Contents",
   "title_sidebar": "Contents",
   "toc_cell": false,
   "toc_position": {},
   "toc_section_display": true,
   "toc_window_display": false
  }
 },
 "nbformat": 4,
 "nbformat_minor": 2
}
