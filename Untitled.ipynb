{
 "cells": [
  {
   "cell_type": "code",
   "execution_count": 320,
   "metadata": {},
   "outputs": [],
   "source": [
    "import pandas as pd\n",
    "from urllib import parse,request\n",
    "import requests\n",
    "from nltk.tokenize import word_tokenize \n",
    "from bs4 import BeautifulSoup\n",
    "import xml.etree.ElementTree as ET\n",
    "import re\n",
    "import os\n",
    "from string import digits\n",
    "from nltk.corpus import stopwords"
   ]
  },
  {
   "cell_type": "code",
   "execution_count": 336,
   "metadata": {},
   "outputs": [],
   "source": [
    "#list of stopwords\n",
    "stopword_gen=pd.read_csv(\"StopWords_Generic.txt\")\n",
    "stopword_gen=list(stopword_gen.ABOUT)\n",
    "#create positive negative dictionary from master dictionary\n",
    "df=pd.read_csv(\"LoughranMcDonald_MasterDictionary_2018.csv\")\n",
    "df=df.loc[:,[\"Word\",\"Negative\",\"Positive\"]]\n",
    "df=df[(df.Negative!=0) | (df.Positive!=0)]\n",
    "df=df[~df.Word.isin(stopword)].reset_index(drop=True)"
   ]
  },
  {
   "cell_type": "code",
   "execution_count": 322,
   "metadata": {},
   "outputs": [],
   "source": [
    "abs_url=\"https://www.sec.gov/Archives/\""
   ]
  },
  {
   "cell_type": "code",
   "execution_count": 323,
   "metadata": {},
   "outputs": [
    {
     "data": {
      "text/plain": [
       "'https://www.sec.gov/Archives/edgar/data/3662/0000950170-98-000413.txt'"
      ]
     },
     "execution_count": 323,
     "metadata": {},
     "output_type": "execute_result"
    }
   ],
   "source": [
    "exl=pd.read_excel(\"cik_list.xlsx\",sheet_name=0)\n",
    "rel_url=\"edgar/data/3662/0000950170-98-000413.txt\"\n",
    "url=parse.urljoin(abs_url,rel_url)\n",
    "url"
   ]
  },
  {
   "cell_type": "code",
   "execution_count": 324,
   "metadata": {},
   "outputs": [],
   "source": [
    "text=requests.get(url)\n",
    "soup=BeautifulSoup(txt.content,\"lxml\")\n",
    "for tag in soup([\"table\",\"sec-header\"]):\n",
    "    tag.decompose()"
   ]
  },
  {
   "cell_type": "code",
   "execution_count": 334,
   "metadata": {},
   "outputs": [],
   "source": [
    "text=soup.get_text()"
   ]
  },
  {
   "cell_type": "code",
   "execution_count": 335,
   "metadata": {},
   "outputs": [],
   "source": [
    "#remove digits with decimal points\n",
    "text=re.sub(r\"[0-9]+\\.+[0-9]+\",\"\",text)\n",
    "#remove digits\n",
    "remove_digits=str.maketrans(\"\", \"\",digits)\n",
    "text=text.translate(remove_digits)\n",
    "#remove punctuations except periods and apostrophe\n",
    "text=re.sub(r'[^\\w\\.\\'\\s]',\"\",text)\n",
    "#remove stopwords and extra spaces\n",
    "stopword=set(stopwords.words(\"english\"))\n",
    "text=\" \".join([word for word in text.split() if word not in stopword])"
   ]
  },
  {
   "cell_type": "code",
   "execution_count": 190,
   "metadata": {},
   "outputs": [],
   "source": [
    "\"\"\"\n",
    "text=[line.strip() for line in text.splitlines()]\n",
    "# break multi-headlines into a line each\n",
    "text=[phrase.strip() for line in text for phrase in line.split(\"  \")]\n",
    "# drop blank lines\n",
    "text=os.linesep.join([line for line in text if line])\n",
    "\"\"\""
   ]
  },
  {
   "cell_type": "code",
   "execution_count": 351,
   "metadata": {},
   "outputs": [],
   "source": [
    "pattern=\"MANAGEMENT'S DISCUSSION AND ANALYSIS OF FINANCIAL CONDITION AND RESULTS OF OPERATION (.+?)ITEM \\.\"\n",
    "pattern1=r\"ITEM [0-9]\\. QUANTITATIVE AND QUALITATIVE DISCLOSURES (.+?)ITEM [0-9]\\.\"\n",
    "substring=re.search(pattern,text,re.DOTALL)"
   ]
  },
  {
   "cell_type": "code",
   "execution_count": 365,
   "metadata": {},
   "outputs": [
    {
     "name": "stdout",
     "output_type": "stream",
     "text": [
      "2125\n"
     ]
    }
   ],
   "source": [
    "#count words in the text\n",
    "split_words=substring.group(1).split()\n",
    "#remove periods from list\n",
    "clean_list=list(map(lambda x:re.sub(r\"[^a-zA-Z\\']\",\"\",x),split_words))\n",
    "clean_list=list(filter(None,clean_list))\n",
    "print(len(clean_list))"
   ]
  },
  {
   "cell_type": "code",
   "execution_count": 294,
   "metadata": {},
   "outputs": [],
   "source": [
    "#count positive and negative words in the text\n",
    "positive=0\n",
    "negative=0\n",
    "for word in unique_words:\n",
    "    if word.upper() in list(df.Word):\n",
    "        if df.loc[df[\"Word\"]==word.upper(),\"Positive\"].iloc[0] != 0:\n",
    "            positive+=1\n",
    "        else:\n",
    "            negative+=1    \n",
    "    "
   ]
  },
  {
   "cell_type": "code",
   "execution_count": 299,
   "metadata": {},
   "outputs": [
    {
     "data": {
      "text/plain": [
       "-0.5536480674814419"
      ]
     },
     "execution_count": 299,
     "metadata": {},
     "output_type": "execute_result"
    }
   ],
   "source": [
    "#polarity score\n",
    "polarity_score=(positive - negative)/((positive + negative) + 0.000001)\n",
    "polarity_score"
   ]
  }
 ],
 "metadata": {
  "kernelspec": {
   "display_name": "Python 3",
   "language": "python",
   "name": "python3"
  },
  "language_info": {
   "codemirror_mode": {
    "name": "ipython",
    "version": 3
   },
   "file_extension": ".py",
   "mimetype": "text/x-python",
   "name": "python",
   "nbconvert_exporter": "python",
   "pygments_lexer": "ipython3",
   "version": "3.6.7"
  },
  "toc": {
   "base_numbering": 1,
   "nav_menu": {},
   "number_sections": true,
   "sideBar": true,
   "skip_h1_title": false,
   "title_cell": "Table of Contents",
   "title_sidebar": "Contents",
   "toc_cell": false,
   "toc_position": {},
   "toc_section_display": true,
   "toc_window_display": false
  }
 },
 "nbformat": 4,
 "nbformat_minor": 2
}
